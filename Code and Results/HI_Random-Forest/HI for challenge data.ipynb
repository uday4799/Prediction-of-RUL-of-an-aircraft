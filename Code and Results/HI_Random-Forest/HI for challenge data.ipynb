{
 "cells": [
  {
   "cell_type": "code",
   "execution_count": 1,
   "metadata": {},
   "outputs": [],
   "source": [
    "import numpy as np\n",
    "import pandas as pd"
   ]
  },
  {
   "cell_type": "code",
   "execution_count": 14,
   "metadata": {},
   "outputs": [],
   "source": [
    "data=pd.read_csv(r\"C:\\Users\\Uday\\Desktop\\BTP\\trg data now.csv\")"
   ]
  },
  {
   "cell_type": "code",
   "execution_count": 15,
   "metadata": {},
   "outputs": [
    {
     "data": {
      "text/plain": [
       "Index(['id', 'cycle', 'setting1', 'setting2', 'setting3', 'T2', 'T24', 'T30',\n",
       "       'T50', 'P2', 'P15', 'P30', 'Nf', 'Nc', 'EPR', 'Ps30', 'phi', 'NRf',\n",
       "       'Nrc', 'BPR', 'farB', 'htBleed', 'Nf_dmd', 'PCNfR_dmd', 'W31', 'W32',\n",
       "       'RUL', 'HI'],\n",
       "      dtype='object')"
      ]
     },
     "execution_count": 15,
     "metadata": {},
     "output_type": "execute_result"
    }
   ],
   "source": [
    "data.columns"
   ]
  },
  {
   "cell_type": "code",
   "execution_count": 16,
   "metadata": {},
   "outputs": [],
   "source": [
    "data['HI']=7"
   ]
  },
  {
   "cell_type": "code",
   "execution_count": 17,
   "metadata": {},
   "outputs": [
    {
     "name": "stderr",
     "output_type": "stream",
     "text": [
      "C:\\ProgramData\\Anaconda3\\lib\\site-packages\\ipykernel_launcher.py:4: FutureWarning: \n",
      ".ix is deprecated. Please use\n",
      ".loc for label based indexing or\n",
      ".iloc for positional indexing\n",
      "\n",
      "See the documentation here:\n",
      "http://pandas.pydata.org/pandas-docs/stable/user_guide/indexing.html#ix-indexer-is-deprecated\n",
      "  after removing the cwd from sys.path.\n",
      "C:\\ProgramData\\Anaconda3\\lib\\site-packages\\ipykernel_launcher.py:8: FutureWarning: \n",
      ".ix is deprecated. Please use\n",
      ".loc for label based indexing or\n",
      ".iloc for positional indexing\n",
      "\n",
      "See the documentation here:\n",
      "http://pandas.pydata.org/pandas-docs/stable/user_guide/indexing.html#ix-indexer-is-deprecated\n",
      "  \n"
     ]
    }
   ],
   "source": [
    "count=0\n",
    "for index in data.index:\n",
    "    if data['RUL'][index]!=0 and count<30:\n",
    "        data.ix[index,'HI']=1\n",
    "        count+=1\n",
    "    else:\n",
    "        if not data['RUL'][index]:\n",
    "            data.ix[index,'HI']=0\n",
    "            count=0"
   ]
  },
  {
   "cell_type": "code",
   "execution_count": 18,
   "metadata": {},
   "outputs": [
    {
     "data": {
      "text/plain": [
       "7    39160\n",
       "1     6540\n",
       "0      218\n",
       "Name: HI, dtype: int64"
      ]
     },
     "execution_count": 18,
     "metadata": {},
     "output_type": "execute_result"
    }
   ],
   "source": [
    "data['HI'].value_counts()"
   ]
  },
  {
   "cell_type": "code",
   "execution_count": 19,
   "metadata": {},
   "outputs": [],
   "source": [
    "training_data_0=data[(data['HI']!=7) & (data['setting3']==0)]\n",
    "training_data_20=data[(data['HI']!=7) & (data['setting3']==20)]\n",
    "training_data_40=data[(data['HI']!=7) & (data['setting3']==40)]\n",
    "training_data_60=data[(data['HI']!=7) & (data['setting3']==60)]\n",
    "training_data_80=data[(data['HI']!=7) & (data['setting3']==80)]\n",
    "training_data_100=data[(data['HI']!=7) & (data['setting3']==100)]\n",
    "test_data_0=data[(data['HI']==7) & (data['setting3']==0)]\n",
    "test_data_20=data[(data['HI']==7) & (data['setting3']==20)]\n",
    "test_data_40=data[(data['HI']==7) & (data['setting3']==40)]\n",
    "test_data_60=data[(data['HI']==7) & (data['setting3']==60)]\n",
    "test_data_80=data[(data['HI']==7) & (data['setting3']==80)]\n",
    "test_data_100=data[(data['HI']==7) & (data['setting3']==100)]"
   ]
  },
  {
   "cell_type": "code",
   "execution_count": 20,
   "metadata": {},
   "outputs": [],
   "source": [
    "from sklearn.ensemble import RandomForestClassifier\n",
    "from sklearn import tree"
   ]
  },
  {
   "cell_type": "code",
   "execution_count": 39,
   "metadata": {},
   "outputs": [
    {
     "name": "stderr",
     "output_type": "stream",
     "text": [
      "C:\\ProgramData\\Anaconda3\\lib\\site-packages\\ipykernel_launcher.py:6: DataConversionWarning: A column-vector y was passed when a 1d array was expected. Please change the shape of y to (n_samples,), for example using ravel().\n",
      "  \n",
      "C:\\ProgramData\\Anaconda3\\lib\\site-packages\\ipykernel_launcher.py:12: FutureWarning: \n",
      ".ix is deprecated. Please use\n",
      ".loc for label based indexing or\n",
      ".iloc for positional indexing\n",
      "\n",
      "See the documentation here:\n",
      "http://pandas.pydata.org/pandas-docs/stable/user_guide/indexing.html#ix-indexer-is-deprecated\n",
      "  if sys.path[0] == '':\n",
      "C:\\ProgramData\\Anaconda3\\lib\\site-packages\\ipykernel_launcher.py:20: DataConversionWarning: A column-vector y was passed when a 1d array was expected. Please change the shape of y to (n_samples,), for example using ravel().\n",
      "C:\\ProgramData\\Anaconda3\\lib\\site-packages\\ipykernel_launcher.py:26: FutureWarning: \n",
      ".ix is deprecated. Please use\n",
      ".loc for label based indexing or\n",
      ".iloc for positional indexing\n",
      "\n",
      "See the documentation here:\n",
      "http://pandas.pydata.org/pandas-docs/stable/user_guide/indexing.html#ix-indexer-is-deprecated\n",
      "C:\\ProgramData\\Anaconda3\\lib\\site-packages\\ipykernel_launcher.py:34: DataConversionWarning: A column-vector y was passed when a 1d array was expected. Please change the shape of y to (n_samples,), for example using ravel().\n",
      "C:\\ProgramData\\Anaconda3\\lib\\site-packages\\ipykernel_launcher.py:40: FutureWarning: \n",
      ".ix is deprecated. Please use\n",
      ".loc for label based indexing or\n",
      ".iloc for positional indexing\n",
      "\n",
      "See the documentation here:\n",
      "http://pandas.pydata.org/pandas-docs/stable/user_guide/indexing.html#ix-indexer-is-deprecated\n",
      "C:\\ProgramData\\Anaconda3\\lib\\site-packages\\ipykernel_launcher.py:48: DataConversionWarning: A column-vector y was passed when a 1d array was expected. Please change the shape of y to (n_samples,), for example using ravel().\n",
      "C:\\ProgramData\\Anaconda3\\lib\\site-packages\\ipykernel_launcher.py:54: FutureWarning: \n",
      ".ix is deprecated. Please use\n",
      ".loc for label based indexing or\n",
      ".iloc for positional indexing\n",
      "\n",
      "See the documentation here:\n",
      "http://pandas.pydata.org/pandas-docs/stable/user_guide/indexing.html#ix-indexer-is-deprecated\n",
      "C:\\ProgramData\\Anaconda3\\lib\\site-packages\\ipykernel_launcher.py:62: DataConversionWarning: A column-vector y was passed when a 1d array was expected. Please change the shape of y to (n_samples,), for example using ravel().\n",
      "C:\\ProgramData\\Anaconda3\\lib\\site-packages\\ipykernel_launcher.py:68: FutureWarning: \n",
      ".ix is deprecated. Please use\n",
      ".loc for label based indexing or\n",
      ".iloc for positional indexing\n",
      "\n",
      "See the documentation here:\n",
      "http://pandas.pydata.org/pandas-docs/stable/user_guide/indexing.html#ix-indexer-is-deprecated\n",
      "C:\\ProgramData\\Anaconda3\\lib\\site-packages\\ipykernel_launcher.py:76: DataConversionWarning: A column-vector y was passed when a 1d array was expected. Please change the shape of y to (n_samples,), for example using ravel().\n",
      "C:\\ProgramData\\Anaconda3\\lib\\site-packages\\ipykernel_launcher.py:82: FutureWarning: \n",
      ".ix is deprecated. Please use\n",
      ".loc for label based indexing or\n",
      ".iloc for positional indexing\n",
      "\n",
      "See the documentation here:\n",
      "http://pandas.pydata.org/pandas-docs/stable/user_guide/indexing.html#ix-indexer-is-deprecated\n"
     ]
    }
   ],
   "source": [
    "x_train=training_data_0[['T24','T30','T50','P30','Ps30','phi','BPR','W31','W32']]\n",
    "y_train=training_data_0[['HI']]\n",
    "x_test=test_data_0[['T24','T30','T50','P30','Ps30','phi','BPR','W31','W32']]\n",
    "\n",
    "rndclf_0=RandomForestClassifier(n_estimators=10,max_depth=5,bootstrap=True)\n",
    "rndclf_0.fit(x_train,y_train)\n",
    "y_pred_rnd=rndclf_0.predict(x_test)\n",
    "y_prob_rnd=rndclf_0.predict_proba(x_test)[:,1]\n",
    "\n",
    "i=0\n",
    "for index in x_test.index:\n",
    "    data.ix[index,'HI']=y_prob_rnd[i]\n",
    "    i+=1\n",
    "\n",
    "x_train=training_data_20[['T24','T30','T50','P30','Ps30','phi','BPR','W31','W32']]\n",
    "y_train=training_data_20[['HI']]\n",
    "x_test=test_data_20[['T24','T30','T50','P30','Ps30','phi','BPR','W31','W32']]\n",
    "\n",
    "rndclf_20=RandomForestClassifier(n_estimators=10,max_depth=5,bootstrap=True)\n",
    "rndclf_20.fit(x_train,y_train)\n",
    "y_pred_rnd=rndclf_20.predict(x_test)\n",
    "y_prob_rnd=rndclf_20.predict_proba(x_test)[:,1]\n",
    "\n",
    "i=0\n",
    "for index in x_test.index:\n",
    "    data.ix[index,'HI']=y_prob_rnd[i]\n",
    "    i+=1\n",
    "\n",
    "x_train=training_data_40[['T24','T30','T50','P30','Ps30','phi','BPR','W31','W32']]\n",
    "y_train=training_data_40[['HI']]\n",
    "x_test=test_data_40[['T24','T30','T50','P30','Ps30','phi','BPR','W31','W32']]\n",
    "\n",
    "rndclf_40=RandomForestClassifier(n_estimators=10,max_depth=5,bootstrap=True)\n",
    "rndclf_40.fit(x_train,y_train)\n",
    "y_pred_rnd=rndclf_40.predict(x_test)\n",
    "y_prob_rnd=rndclf_40.predict_proba(x_test)[:,1]\n",
    "\n",
    "i=0\n",
    "for index in x_test.index:\n",
    "    data.ix[index,'HI']=y_prob_rnd[i]\n",
    "    i+=1\n",
    "\n",
    "x_train=training_data_60[['T24','T30','T50','P30','Ps30','phi','BPR','W31','W32']]\n",
    "y_train=training_data_60[['HI']]\n",
    "x_test=test_data_60[['T24','T30','T50','P30','Ps30','phi','BPR','W31','W32']]\n",
    "\n",
    "rndclf_60=RandomForestClassifier(n_estimators=10,max_depth=5,bootstrap=True)\n",
    "rndclf_60.fit(x_train,y_train)\n",
    "y_pred_rnd=rndclf_60.predict(x_test)\n",
    "y_prob_rnd=rndclf_60.predict_proba(x_test)[:,1]\n",
    "\n",
    "i=0\n",
    "for index in x_test.index:\n",
    "    data.ix[index,'HI']=y_prob_rnd[i]\n",
    "    i+=1\n",
    "\n",
    "x_train=training_data_80[['T24','T30','T50','P30','Ps30','phi','BPR','W31','W32']]\n",
    "y_train=training_data_80[['HI']]\n",
    "x_test=test_data_80[['T24','T30','T50','P30','Ps30','phi','BPR','W31','W32']]\n",
    "\n",
    "rndclf_80=RandomForestClassifier(n_estimators=10,max_depth=5,bootstrap=True)\n",
    "rndclf_80.fit(x_train,y_train)\n",
    "y_pred_rnd=rndclf_80.predict(x_test)\n",
    "y_prob_rnd=rndclf_80.predict_proba(x_test)[:,1]\n",
    "\n",
    "i=0\n",
    "for index in x_test.index:\n",
    "    data.ix[index,'HI']=y_prob_rnd[i]\n",
    "    i+=1\n",
    "\n",
    "x_train=training_data_100[['T24','T30','T50','P30','Ps30','phi','BPR','W31','W32']]\n",
    "y_train=training_data_100[['HI']]\n",
    "x_test=test_data_100[['T24','T30','T50','P30','Ps30','phi','BPR','W31','W32']]\n",
    "\n",
    "rndclf_100=RandomForestClassifier(n_estimators=10,max_depth=5,bootstrap=True)\n",
    "rndclf_100.fit(x_train,y_train)\n",
    "y_pred_rnd=rndclf_100.predict(x_test)\n",
    "y_prob_rnd=rndclf_100.predict_proba(x_test)[:,1]\n",
    "\n",
    "i=0\n",
    "for index in x_test.index:\n",
    "    data.ix[index,'HI']=y_prob_rnd[i]\n",
    "    i+=1"
   ]
  },
  {
   "cell_type": "code",
   "execution_count": 40,
   "metadata": {},
   "outputs": [],
   "source": [
    "import matplotlib.pyplot as plt"
   ]
  },
  {
   "cell_type": "code",
   "execution_count": 41,
   "metadata": {},
   "outputs": [
    {
     "data": {
      "text/plain": [
       "<matplotlib.collections.PathCollection at 0x18b448970f0>"
      ]
     },
     "execution_count": 41,
     "metadata": {},
     "output_type": "execute_result"
    },
    {
     "data": {
      "image/png": "[encoded data removed]",
      "text/plain": [
       "<Figure size 432x288 with 1 Axes>"
      ]
     },
     "metadata": {
      "needs_background": "light"
     },
     "output_type": "display_data"
    }
   ],
   "source": [
    "\n",
    "aircraft=data[data['id']==2\n",
    "             ]\n",
    "health_index=aircraft['HI']\n",
    "time_cycle=aircraft['cycle']\n",
    "plt.scatter(time_cycle,health_index)"
   ]
  },
  {
   "cell_type": "code",
   "execution_count": 45,
   "metadata": {},
   "outputs": [],
   "source": [
    "data.to_csv(r\"C:\\Users\\Uday\\Desktop\\BTP\\trg data now.csv\",index=False)"
   ]
  },
  {
   "cell_type": "code",
   "execution_count": 46,
   "metadata": {},
   "outputs": [],
   "source": [
    "test_data=pd.read_csv(r\"C:\\Users\\Uday\\Desktop\\BTP\\test data.csv\")"
   ]
  },
  {
   "cell_type": "code",
   "execution_count": 47,
   "metadata": {},
   "outputs": [
    {
     "data": {
      "text/plain": [
       "Index(['id', 'cycle', 'setting1', 'setting2', 'setting3', 'T2', 'T24', 'T30',\n",
       "       'T50', 'P2', 'P15', 'P30', 'Nf', 'Nc', 'EPR', 'Ps30', 'phi', 'NRf',\n",
       "       'Nrc', 'BPR', 'farB', 'htBleed', 'Nf_dmd', 'PCNfR_dmd', 'W31', 'W32',\n",
       "       'HI'],\n",
       "      dtype='object')"
      ]
     },
     "execution_count": 47,
     "metadata": {},
     "output_type": "execute_result"
    }
   ],
   "source": [
    "test_data.columns"
   ]
  },
  {
   "cell_type": "code",
   "execution_count": 48,
   "metadata": {},
   "outputs": [],
   "source": [
    "xtest_0=test_data[test_data['setting3']==0][['T24','T30','T50','P30','Ps30','phi','BPR','W31','W32']]\n",
    "xtest_20=test_data[test_data['setting3']==20][['T24','T30','T50','P30','Ps30','phi','BPR','W31','W32']]\n",
    "\n",
    "xtest_40=test_data[test_data['setting3']==40][['T24','T30','T50','P30','Ps30','phi','BPR','W31','W32']]\n",
    "xtest_60=test_data[test_data['setting3']==60][['T24','T30','T50','P30','Ps30','phi','BPR','W31','W32']]\n",
    "\n",
    "xtest_80=test_data[test_data['setting3']==80][['T24','T30','T50','P30','Ps30','phi','BPR','W31','W32']]\n",
    "xtest_100=test_data[test_data['setting3']==100][['T24','T30','T50','P30','Ps30','phi','BPR','W31','W32']]"
   ]
  },
  {
   "cell_type": "code",
   "execution_count": 49,
   "metadata": {},
   "outputs": [],
   "source": [
    "prediction_0=rndclf_0.predict_proba(xtest_0)[:,1]\n",
    "prediction_20=rndclf_20.predict_proba(xtest_20)[:,1]\n",
    "prediction_40=rndclf_40.predict_proba(xtest_40)[:,1]\n",
    "prediction_60=rndclf_60.predict_proba(xtest_60)[:,1]\n",
    "prediction_80=rndclf_80.predict_proba(xtest_80)[:,1]\n",
    "prediction_100=rndclf_100.predict_proba(xtest_100)[:,1]"
   ]
  },
  {
   "cell_type": "code",
   "execution_count": 50,
   "metadata": {},
   "outputs": [
    {
     "name": "stderr",
     "output_type": "stream",
     "text": [
      "C:\\ProgramData\\Anaconda3\\lib\\site-packages\\ipykernel_launcher.py:3: FutureWarning: \n",
      ".ix is deprecated. Please use\n",
      ".loc for label based indexing or\n",
      ".iloc for positional indexing\n",
      "\n",
      "See the documentation here:\n",
      "http://pandas.pydata.org/pandas-docs/stable/user_guide/indexing.html#ix-indexer-is-deprecated\n",
      "  This is separate from the ipykernel package so we can avoid doing imports until\n"
     ]
    }
   ],
   "source": [
    "i=0\n",
    "for index in xtest_0.index:\n",
    "    test_data.ix[index,'HI']=prediction_0[i]\n",
    "    i+=1"
   ]
  },
  {
   "cell_type": "code",
   "execution_count": 51,
   "metadata": {},
   "outputs": [
    {
     "name": "stderr",
     "output_type": "stream",
     "text": [
      "C:\\ProgramData\\Anaconda3\\lib\\site-packages\\ipykernel_launcher.py:3: FutureWarning: \n",
      ".ix is deprecated. Please use\n",
      ".loc for label based indexing or\n",
      ".iloc for positional indexing\n",
      "\n",
      "See the documentation here:\n",
      "http://pandas.pydata.org/pandas-docs/stable/user_guide/indexing.html#ix-indexer-is-deprecated\n",
      "  This is separate from the ipykernel package so we can avoid doing imports until\n"
     ]
    }
   ],
   "source": [
    "i=0\n",
    "for index in xtest_20.index:\n",
    "    test_data.ix[index,'HI']=prediction_20[i]\n",
    "    i+=1"
   ]
  },
  {
   "cell_type": "code",
   "execution_count": 52,
   "metadata": {},
   "outputs": [
    {
     "name": "stderr",
     "output_type": "stream",
     "text": [
      "C:\\ProgramData\\Anaconda3\\lib\\site-packages\\ipykernel_launcher.py:3: FutureWarning: \n",
      ".ix is deprecated. Please use\n",
      ".loc for label based indexing or\n",
      ".iloc for positional indexing\n",
      "\n",
      "See the documentation here:\n",
      "http://pandas.pydata.org/pandas-docs/stable/user_guide/indexing.html#ix-indexer-is-deprecated\n",
      "  This is separate from the ipykernel package so we can avoid doing imports until\n"
     ]
    }
   ],
   "source": [
    "i=0\n",
    "for index in xtest_40.index:\n",
    "    test_data.ix[index,'HI']=prediction_40[i]\n",
    "    i+=1"
   ]
  },
  {
   "cell_type": "code",
   "execution_count": 53,
   "metadata": {},
   "outputs": [
    {
     "name": "stderr",
     "output_type": "stream",
     "text": [
      "C:\\ProgramData\\Anaconda3\\lib\\site-packages\\ipykernel_launcher.py:3: FutureWarning: \n",
      ".ix is deprecated. Please use\n",
      ".loc for label based indexing or\n",
      ".iloc for positional indexing\n",
      "\n",
      "See the documentation here:\n",
      "http://pandas.pydata.org/pandas-docs/stable/user_guide/indexing.html#ix-indexer-is-deprecated\n",
      "  This is separate from the ipykernel package so we can avoid doing imports until\n"
     ]
    }
   ],
   "source": [
    "i=0\n",
    "for index in xtest_60.index:\n",
    "    test_data.ix[index,'HI']=prediction_60[i]\n",
    "    i+=1"
   ]
  },
  {
   "cell_type": "code",
   "execution_count": 54,
   "metadata": {},
   "outputs": [
    {
     "name": "stderr",
     "output_type": "stream",
     "text": [
      "C:\\ProgramData\\Anaconda3\\lib\\site-packages\\ipykernel_launcher.py:3: FutureWarning: \n",
      ".ix is deprecated. Please use\n",
      ".loc for label based indexing or\n",
      ".iloc for positional indexing\n",
      "\n",
      "See the documentation here:\n",
      "http://pandas.pydata.org/pandas-docs/stable/user_guide/indexing.html#ix-indexer-is-deprecated\n",
      "  This is separate from the ipykernel package so we can avoid doing imports until\n"
     ]
    }
   ],
   "source": [
    "i=0\n",
    "for index in xtest_80.index:\n",
    "    test_data.ix[index,'HI']=prediction_80[i]\n",
    "    i+=1"
   ]
  },
  {
   "cell_type": "code",
   "execution_count": 55,
   "metadata": {},
   "outputs": [
    {
     "name": "stderr",
     "output_type": "stream",
     "text": [
      "C:\\ProgramData\\Anaconda3\\lib\\site-packages\\ipykernel_launcher.py:3: FutureWarning: \n",
      ".ix is deprecated. Please use\n",
      ".loc for label based indexing or\n",
      ".iloc for positional indexing\n",
      "\n",
      "See the documentation here:\n",
      "http://pandas.pydata.org/pandas-docs/stable/user_guide/indexing.html#ix-indexer-is-deprecated\n",
      "  This is separate from the ipykernel package so we can avoid doing imports until\n"
     ]
    }
   ],
   "source": [
    "i=0\n",
    "for index in xtest_100.index:\n",
    "    test_data.ix[index,'HI']=prediction_100[i]\n",
    "    i+=1"
   ]
  },
  {
   "cell_type": "code",
   "execution_count": 56,
   "metadata": {},
   "outputs": [],
   "source": [
    "test_data.to_csv(r\"C:\\Users\\Uday\\Desktop\\BTP\\test data.csv\",index=False)"
   ]
  },
  {
   "cell_type": "code",
   "execution_count": 57,
   "metadata": {},
   "outputs": [
    {
     "data": {
      "text/plain": [
       "1.0"
      ]
     },
     "execution_count": 57,
     "metadata": {},
     "output_type": "execute_result"
    }
   ],
   "source": [
    "test_data['HI'][141]"
   ]
  },
  {
   "cell_type": "code",
   "execution_count": 58,
   "metadata": {},
   "outputs": [],
   "source": [
    "from sklearn.tree import export_graphviz\n",
    "import pydot\n",
    "feature_list = list(xtest_0.columns)\n",
    "for ind in range(0,10):\n",
    "    tree = rndclf_0.estimators_[ind]\n",
    "    # Export the image to a dot file\n",
    "    export_graphviz(tree, out_file = 'tree.dot', proportion=False,class_names=[\"faulty\",\"healthy\"],leaves_parallel=True,filled=True,feature_names = feature_list, rounded = True, precision = 3)\n",
    "    # Use dot file to create a graph\n",
    "    (graph, ) = pydot.graph_from_dot_file('tree.dot')\n",
    "    # Write graph to a png file\n",
    "    graph.write_png(\"0tree\"+str(ind)+\".png\")\n"
   ]
  },
  {
   "cell_type": "code",
   "execution_count": 59,
   "metadata": {},
   "outputs": [],
   "source": [
    "feature_list = list(xtest_20.columns)\n",
    "for ind in range(0,10):\n",
    "    tree = rndclf_20.estimators_[ind]\n",
    "    # Export the image to a dot file\n",
    "    export_graphviz(tree, out_file = 'tree.dot', proportion=False,class_names=[\"faulty\",\"healthy\"],leaves_parallel=True,filled=True,feature_names = feature_list, rounded = True, precision = 3)\n",
    "    # Use dot file to create a graph\n",
    "    (graph, ) = pydot.graph_from_dot_file('tree.dot')\n",
    "    # Write graph to a png file\n",
    "    graph.write_png(\"20tree\"+str(ind)+\".png\")"
   ]
  },
  {
   "cell_type": "code",
   "execution_count": 60,
   "metadata": {},
   "outputs": [],
   "source": [
    "feature_list = list(xtest_40.columns)\n",
    "for ind in range(0,10):\n",
    "    tree = rndclf_40.estimators_[ind]\n",
    "    # Export the image to a dot file\n",
    "    export_graphviz(tree, out_file = 'tree.dot', proportion=False,class_names=[\"faulty\",\"healthy\"],leaves_parallel=True,filled=True,feature_names = feature_list, rounded = True, precision = 3)\n",
    "    # Use dot file to create a graph\n",
    "    (graph, ) = pydot.graph_from_dot_file('tree.dot')\n",
    "    # Write graph to a png file\n",
    "    graph.write_png(\"40tree\"+str(ind)+\".png\")"
   ]
  },
  {
   "cell_type": "code",
   "execution_count": 61,
   "metadata": {},
   "outputs": [],
   "source": [
    "feature_list = list(xtest_60.columns)\n",
    "for ind in range(0,10):\n",
    "    tree = rndclf_60.estimators_[ind]\n",
    "    # Export the image to a dot file\n",
    "    export_graphviz(tree, out_file = 'tree.dot', proportion=False,class_names=[\"faulty\",\"healthy\"],leaves_parallel=True,filled=True,feature_names = feature_list, rounded = True, precision = 3)\n",
    "    # Use dot file to create a graph\n",
    "    (graph, ) = pydot.graph_from_dot_file('tree.dot')\n",
    "    # Write graph to a png file\n",
    "    graph.write_png(\"60tree\"+str(ind)+\".png\")"
   ]
  },
  {
   "cell_type": "code",
   "execution_count": 62,
   "metadata": {},
   "outputs": [],
   "source": [
    "feature_list = list(xtest_80.columns)\n",
    "for ind in range(0,10):\n",
    "    tree = rndclf_80.estimators_[ind]\n",
    "    # Export the image to a dot file\n",
    "    export_graphviz(tree, out_file = 'tree.dot', proportion=False,class_names=[\"faulty\",\"healthy\"],leaves_parallel=True,filled=True,feature_names = feature_list, rounded = True, precision = 3)\n",
    "    # Use dot file to create a graph\n",
    "    (graph, ) = pydot.graph_from_dot_file('tree.dot')\n",
    "    # Write graph to a png file\n",
    "    graph.write_png(\"80tree\"+str(ind)+\".png\")"
   ]
  },
  {
   "cell_type": "code",
   "execution_count": 63,
   "metadata": {},
   "outputs": [],
   "source": [
    "feature_list = list(xtest_100.columns)\n",
    "for ind in range(0,10):\n",
    "    tree = rndclf_100.estimators_[ind]\n",
    "    # Export the image to a dot file\n",
    "    export_graphviz(tree, out_file = 'tree.dot', proportion=False,class_names=[\"faulty\",\"healthy\"],leaves_parallel=True,filled=True,feature_names = feature_list, rounded = True, precision = 3)\n",
    "    # Use dot file to create a graph\n",
    "    (graph, ) = pydot.graph_from_dot_file('tree.dot')\n",
    "    # Write graph to a png file\n",
    "    graph.write_png(\"100tree\"+str(ind)+\".png\")"
   ]
  },
  {
   "cell_type": "code",
   "execution_count": null,
   "metadata": {},
   "outputs": [],
   "source": []
  }
 ],
 "metadata": {
  "kernelspec": {
   "display_name": "Python 3",
   "language": "python",
   "name": "python3"
  },
  "language_info": {
   "codemirror_mode": {
    "name": "ipython",
    "version": 3
   },
   "file_extension": ".py",
   "mimetype": "text/x-python",
   "name": "python",
   "nbconvert_exporter": "python",
   "pygments_lexer": "ipython3",
   "version": "3.7.1"
  }
 },
 "nbformat": 4,
 "nbformat_minor": 2
}
